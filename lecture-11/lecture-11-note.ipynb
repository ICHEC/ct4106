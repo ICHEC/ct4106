{
 "cells": [
  {
   "cell_type": "markdown",
   "metadata": {},
   "source": [
    "# Quadratic unconstrained binary optimization (QUBO)\n",
    "\n",
    "## Example 1\n",
    "\n",
    "Consider a set of N positive integers (though one doesn't need to) $U = \\{n_1, n_2, n_3, \\dots, n_N\\}$, and imagine the goal is to construct two disjoint subsets of this, called A and B, such that $A\\cup B=U$ and $A\\cap B=\\empty$, such that the sum of the numbers in each subset is equal or as close to each other as possible.\n",
    "\n",
    "Formally, the sets A and B are to be constructed so that\n",
    "\n",
    "$$f(\\{n_i\\}) = (S_A - S_B)^2~~\\text{where}$$\n",
    "$$S_A = \\sum_{i\\in A} n_i, \\quad S_B = \\sum_{i\\in B}n_i$$\n",
    "\n",
    "is minimum. This is a `cost function` that has to be minimized.\n",
    "\n",
    "What we do is, assign to each number $n_i$ a binary variable $x_i$, such that $x_i = 1$ if $n_i\\in A$ or otherwise $x_i = 0$ if $n_i \\in B$.\n",
    "\n",
    "Now we can write the partial sum as\n",
    "$$\n",
    "S_A = \\sum_{i\\in U} n_i x_i \\\\S_B = \\sum_{i\\in U}n_i (1-x_i)\n",
    "$$\n",
    "\n",
    "The cost function can now be written as \n",
    "\n",
    "\\begin{align}\n",
    "f(\\{n_i\\}) &= (S_A - S_B)^2 = S_A^2 + S_B^2 - 2S_A S_B\\\\\n",
    "&= (\\sum_{i\\in U} n_i x_i)^2 + (\\sum_{i\\in U}n_i (1-x_i))^2 - 2 (\\sum_{i\\in U} n_i x_i)\\sum_{j\\in U}n_j (1-x_j)\\\\\n",
    "&= \\sum_{ij\\in U}\\left[\n",
    "    n_i n_j x_i x_j + n_i n_j (1-x_i)(1-x_j) - 2 n_i n_j x_i (1-x_j)\n",
    "    \\right]\\\\\n",
    "    &= \\sum_{ij\\in U} n_i n_j (x_i x_j + 1 - x_i - x_j + x_i x_j - 2x_i + 2 x_i x_j)\\\\\n",
    "    &= 4\\sum_{ij\\in U} n_i n_j x_i x_j - 4\\sum_{ij\\in U}(n_i n_j x_i) + N^2\\\\\n",
    "    &= 4\\sum_{ij\\in U} n_i n_j x_i x_j - 4S\\sum_{i\\in U}n_i x_i + N^2 \n",
    "\\end{align}\n",
    "\n",
    "Where $S_U = \\sum_{i\\in U} n_i$ is the sum of all the numbers in the set U. Thus we need to minimize the `f` over the discrete space of vector **x** $ = \\{x_1, x_2, \\dots, x_N\\}$. Note that the cost function `f` is quadratic in $x_i$\n",
    "\n",
    "$$\n",
    "f(x) = 4\\sum_{ij\\in U} n_i n_j x_i x_j - 4S\\sum_{i\\in U}n_i x_i + N^2 \n",
    "$$\n"
   ]
  },
  {
   "cell_type": "markdown",
   "metadata": {},
   "source": [
    "The cost function can be expressed in matrix form as\n",
    "\n",
    "$$\n",
    "f(x) = 4 x^{T}Qx + V^{T}x + N^2\n",
    "$$\n",
    "\n",
    "where $Q_{ij} = 4n_i n_j$ and $V_i = 4S n_i$"
   ]
  },
  {
   "cell_type": "code",
   "execution_count": 43,
   "metadata": {},
   "outputs": [],
   "source": [
    "from typing import Any\n",
    "import numpy as np\n",
    "\n",
    "class qubo:\n",
    "\n",
    "    def __init__(self, ni: np.ndarray) -> None:\n",
    "        self.ni = np.asarray(ni)\n",
    "        self.Q = 4 * np.outer(self.ni, self.ni)\n",
    "        self.sum = self.ni.sum()\n",
    "        self.V = 4 * self.sum * self.ni\n",
    "        self.N = self.ni.shape[0]\n",
    "    def __call__(self, x: Any) -> float:\n",
    "        f = x @ (self.Q @ x) + self.V.dot(x) + self.N**2\n",
    "        return f\n",
    "    \n"
   ]
  },
  {
   "cell_type": "code",
   "execution_count": 53,
   "metadata": {},
   "outputs": [
    {
     "data": {
      "text/plain": [
       "(array([ True,  True,  True,  True,  True,  True]), array([2, 5, 9, 7, 3, 5]))"
      ]
     },
     "execution_count": 53,
     "metadata": {},
     "output_type": "execute_result"
    }
   ],
   "source": [
    "# a = np.random.random(6) * 10 + 1\n",
    "a = np.array([2, 5, 9, 7, 3, 5])\n",
    "a = a.astype(int)\n",
    "qfunc = qubo(ni=a)\n",
    "a == qfunc.ni,a"
   ]
  },
  {
   "cell_type": "code",
   "execution_count": 54,
   "metadata": {},
   "outputs": [
    {
     "name": "stdout",
     "output_type": "stream",
     "text": [
      "1\n"
     ]
    }
   ],
   "source": [
    "# 2, 5, 9, 7, 3, 5\n",
    "A = np.array([9,5,2])\n",
    "B = np.array([7,5,3])\n",
    "print((A.sum() - B.sum())**2)"
   ]
  },
  {
   "cell_type": "code",
   "execution_count": 55,
   "metadata": {},
   "outputs": [
    {
     "name": "stdout",
     "output_type": "stream",
     "text": [
      "[2 5 9 7 3 5] [1 0 1 1 1 1] 5964\n",
      "[2 5 9 7 3 5]\n",
      "[[ 16  40  72  56  24  40]\n",
      " [ 40 100 180 140  60 100]\n",
      " [ 72 180 324 252 108 180]\n",
      " [ 56 140 252 196  84 140]\n",
      " [ 24  60 108  84  36  60]\n",
      " [ 40 100 180 140  60 100]]\n",
      "[ 248  620 1116  868  372  620]\n"
     ]
    }
   ],
   "source": [
    "x = np.random.randint(0, 2, size=6) # .astype(bool)\n",
    "print(a, x, qfunc(x))\n",
    "print(qfunc.ni)\n",
    "print(qfunc.Q.round(3))\n",
    "print(qfunc.V)"
   ]
  },
  {
   "cell_type": "code",
   "execution_count": null,
   "metadata": {},
   "outputs": [],
   "source": []
  },
  {
   "cell_type": "code",
   "execution_count": null,
   "metadata": {},
   "outputs": [],
   "source": []
  }
 ],
 "metadata": {
  "kernelspec": {
   "display_name": "Python 3",
   "language": "python",
   "name": "python3"
  },
  "language_info": {
   "codemirror_mode": {
    "name": "ipython",
    "version": 3
   },
   "file_extension": ".py",
   "mimetype": "text/x-python",
   "name": "python",
   "nbconvert_exporter": "python",
   "pygments_lexer": "ipython3",
   "version": "3.12.2"
  }
 },
 "nbformat": 4,
 "nbformat_minor": 2
}
