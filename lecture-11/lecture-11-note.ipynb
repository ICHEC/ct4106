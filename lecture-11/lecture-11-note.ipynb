{
 "cells": [
  {
   "cell_type": "markdown",
   "metadata": {},
   "source": [
    "# Quadratic unconstrained binary optimization (QUBO)\n",
    "\n",
    "## Example 1\n",
    "\n",
    "Consider a set of N positive integers (though one doesn't need to) $U = \\{n_1, n_2, n_3, \\dots, n_N\\}$, and imagine the goal is to construct two disjoint subsets of this, called A and B, such that $A\\cup B=U$ and $A\\cap B=\\empty$, such that the sum of the numbers in each subset is equal or as close to each other as possible.\n",
    "\n",
    "Formally, the sets A and B are to be constructed so that\n",
    "\n",
    "$$f(\\{n_i\\}) = (S_A - S_B)^2~~\\text{where}$$\n",
    "$$S_A = \\sum_{i\\in A} n_i, \\quad S_B = \\sum_{i\\in B}n_i$$\n",
    "\n",
    "is minimum. This is a `cost function` that has to be minimized.\n",
    "\n",
    "What we do is, assign to each number $n_i$ a binary variable $x_i$, such that $x_i = 1$ if $n_i\\in A$ or otherwise $x_i = 0$ if $n_i \\in B$.\n",
    "\n",
    "Now we can write the partial sum as\n",
    "$$\n",
    "S_A = \\sum_{i\\in U} n_i x_i \\\\S_B = \\sum_{i\\in U}n_i (1-x_i)\n",
    "$$\n",
    "\n",
    "The cost function can now be written as \n",
    "\n",
    "\\begin{align}\n",
    "f(\\{n_i\\}) &= (S_A - S_B)^2 = S_A^2 + S_B^2 - 2S_A S_B\\\\\n",
    "&= (\\sum_{i\\in U} n_i x_i)^2 + (\\sum_{i\\in U}n_i (1-x_i))^2 - 2 (\\sum_{i\\in U} n_i x_i)\\sum_{j\\in U}n_j (1-x_j)\\\\\n",
    "&= \\sum_{ij\\in U}\\left[\n",
    "    n_i n_j x_i x_j + n_i n_j (1-x_i)(1-x_j) - 2 n_i n_j x_i (1-x_j)\n",
    "    \\right]\\\\\n",
    "    &= \\sum_{ij\\in U} n_i n_j (x_i x_j + 1 - x_i - x_j + x_i x_j - 2x_i + 2 x_i x_j)\\\\\n",
    "    &= 4\\sum_{ij\\in U} n_i n_j x_i x_j - 4\\sum_{ij\\in U}(n_i n_j x_i) + S^2\\\\\n",
    "    &= 4\\sum_{ij\\in U} n_i n_j x_i x_j - 4S\\sum_{i\\in U}n_i x_i + S^2 \n",
    "\\end{align}\n",
    "\n",
    "Where $S_U = \\sum_{i\\in U} n_i$ is the sum of all the numbers in the set U. Thus we need to minimize the `f` over the discrete space of vector **x** $ = \\{x_1, x_2, \\dots, x_N\\}$. Note that the cost function `f` is quadratic in $x_i$\n",
    "\n",
    "$$\n",
    "f(x) = 4\\sum_{ij\\in U} n_i n_j x_i x_j - 4S\\sum_{i\\in U}n_i x_i + S^2 \n",
    "$$\n"
   ]
  },
  {
   "cell_type": "markdown",
   "metadata": {},
   "source": [
    "The cost function can be expressed in matrix form as\n",
    "\n",
    "$$\n",
    "f(x) = 4 x^{T}Qx + V^{T}x + S^2\n",
    "$$\n",
    "\n",
    "where $Q_{ij} = 4n_i n_j$ and $V_i = -4S n_i$"
   ]
  },
  {
   "cell_type": "markdown",
   "metadata": {},
   "source": [
    "\\begin{align}\n",
    "f(\\{n_i\\}) = 4\\sum_{ij\\in U} n_i n_j x_i x_j - 4S\\sum_{i\\in U}n_i x_i + S^2\n",
    "\\\\\n",
    "= 8\\sum_{i>j} n_i n_j x_i x_j\n",
    "+4\\sum_{i}(n_i^2 - S n_i) x_i + S^2 \n",
    "\\end{align}\n",
    "\n",
    "\n"
   ]
  },
  {
   "cell_type": "code",
   "execution_count": 2,
   "metadata": {},
   "outputs": [],
   "source": [
    "from typing import Any\n",
    "import numpy as np\n",
    "\n",
    "class qubo:\n",
    "\n",
    "    def __init__(self, ni: np.ndarray) -> None:\n",
    "        self.ni = np.asarray(ni)\n",
    "        self.Q = 4 * np.outer(self.ni, self.ni)\n",
    "        self.S = self.ni.sum()\n",
    "        self.V = -4 * self.S * self.ni\n",
    "        self.N = self.ni.shape[0]\n",
    "    def __call__(self, x: Any) -> float:\n",
    "        f = x @ (self.Q @ x) + self.V.dot(x) + self.S**2\n",
    "        return f\n",
    "\n"
   ]
  },
  {
   "cell_type": "code",
   "execution_count": 107,
   "metadata": {},
   "outputs": [
    {
     "name": "stdout",
     "output_type": "stream",
     "text": [
      "1 1\n",
      "separation: (1,5)\n",
      "separation: (2,4)\n",
      "separation: (3,3)\n"
     ]
    }
   ],
   "source": [
    "import numpy as np\n",
    "import itertools\n",
    "\n",
    "# a = np.random.random(6) * 10 + 1\n",
    "a = np.array([2, 5, 9, 7, 3, 5])\n",
    "x = np.array([1, 1, 1, 0, 0, 0])\n",
    "a = a.astype(int)\n",
    "qfunc = qubo(ni=a)\n",
    "a == qfunc.ni,a\n",
    "A = np.array([2,5,9])\n",
    "B = np.array([7,3,5])\n",
    "print(qfunc(x), (A.sum()-B.sum())**2)\n",
    "\n",
    "nsize = 6\n",
    "il = np.arange(nsize)\n",
    "q_f = qfunc\n",
    "vecs = []\n",
    "dist = []\n",
    "for choose in range(1,nsize//2+1):\n",
    "    print(f'separation: ({choose},{nsize-choose})')\n",
    "    for ii in itertools.combinations(il, choose):\n",
    "        xi = np.fromiter(((i in ii) for i in il), dtype=bool)\n",
    "        fi = q_f(xi)\n",
    "        vecs += [xi]\n",
    "        dist += [fi]\n",
    "        #print(ii, xi.astype(int))\n",
    "vecs = np.array(vecs)\n",
    "dist = np.array(dist)"
   ]
  },
  {
   "cell_type": "code",
   "execution_count": 108,
   "metadata": {},
   "outputs": [
    {
     "data": {
      "image/png": "[encoded data removed]",
      "text/plain": [
       "<Figure size 640x480 with 1 Axes>"
      ]
     },
     "metadata": {},
     "output_type": "display_data"
    }
   ],
   "source": [
    "#plt.xlim(0,30000)\n",
    "toprint = 'U=(' + ', '.join([str(i) for i in a]) + ')'\n",
    "plt.text(300, 12, toprint, fontsize=21)\n",
    "plt.xlabel('f(x)', fontsize=15)\n",
    "plt.ylabel('Degeneracy', fontsize=15)\n",
    "dd = plt.hist(dist, bins=30)"
   ]
  },
  {
   "cell_type": "code",
   "execution_count": 110,
   "metadata": {},
   "outputs": [
    {
     "name": "stdout",
     "output_type": "stream",
     "text": [
      "9801 9801\n",
      "separation: (1,6)\n",
      "separation: (2,5)\n",
      "separation: (3,4)\n"
     ]
    }
   ],
   "source": [
    "import numpy as np\n",
    "import itertools\n",
    "\n",
    "# a = np.random.random(6) * 10 + 1\n",
    "a = np.array([2, 5, 9, 7, 3, 5, 100])\n",
    "x = np.array([1, 1, 1, 0, 0, 0, 0])\n",
    "a = a.astype(int)\n",
    "qfunc = qubo(ni=a)\n",
    "a == qfunc.ni,a\n",
    "A = np.array([2,5,9])\n",
    "B = np.array([7,3,5, 100])\n",
    "print(qfunc(x), (A.sum()-B.sum())**2)\n",
    "\n",
    "nsize = 7\n",
    "il = np.arange(nsize)\n",
    "q_f = qfunc\n",
    "vecs = []\n",
    "dist = []\n",
    "for choose in range(1,nsize//2+1):\n",
    "    print(f'separation: ({choose},{nsize-choose})')\n",
    "    for ii in itertools.combinations(il, choose):\n",
    "        xi = np.fromiter(((i in ii) for i in il), dtype=bool)\n",
    "        fi = q_f(xi)\n",
    "        vecs += [xi]\n",
    "        dist += [fi]\n",
    "        #print(ii, xi.astype(int))\n",
    "vecs = np.array(vecs)\n",
    "dist = np.array(dist)"
   ]
  },
  {
   "cell_type": "code",
   "execution_count": 121,
   "metadata": {},
   "outputs": [
    {
     "data": {
      "image/png": "[encoded data removed]",
      "text/plain": [
       "<Figure size 640x480 with 1 Axes>"
      ]
     },
     "metadata": {},
     "output_type": "display_data"
    }
   ],
   "source": [
    "#plt.xlim(0,30000)\n",
    "toprint = 'U=(' + ', '.join([str(i) for i in a]) + ')'\n",
    "plt.text(7800, 5.4, toprint, fontsize=21)\n",
    "plt.xlabel('f(x)', fontsize=15)\n",
    "plt.ylabel('Degeneracy', fontsize=15)\n",
    "dd = plt.hist(dist, bins=60)"
   ]
  },
  {
   "cell_type": "code",
   "execution_count": 33,
   "metadata": {},
   "outputs": [
    {
     "name": "stdout",
     "output_type": "stream",
     "text": [
      "1 1\n"
     ]
    }
   ],
   "source": [
    "# 2, 5, 9, 7, 3, 5\n",
    "A = np.array([9,5,2])\n",
    "B = np.array([7,5,3])\n",
    "print((A.sum() - B.sum())**2, qfunc(x))"
   ]
  },
  {
   "cell_type": "code",
   "execution_count": 34,
   "metadata": {},
   "outputs": [
    {
     "data": {
      "text/plain": [
       "(1235520,)"
      ]
     },
     "execution_count": 34,
     "metadata": {},
     "output_type": "execute_result"
    }
   ],
   "source": [
    "dist.shape"
   ]
  },
  {
   "cell_type": "code",
   "execution_count": 35,
   "metadata": {},
   "outputs": [
    {
     "name": "stdout",
     "output_type": "stream",
     "text": [
      "[2 5 9 7 3 5] [0 0 0 1 0 0] 289\n",
      "[2 5 9 7 3 5]\n",
      "[[ 16  40  72  56  24  40]\n",
      " [ 40 100 180 140  60 100]\n",
      " [ 72 180 324 252 108 180]\n",
      " [ 56 140 252 196  84 140]\n",
      " [ 24  60 108  84  36  60]\n",
      " [ 40 100 180 140  60 100]]\n",
      "[ -248  -620 -1116  -868  -372  -620]\n"
     ]
    }
   ],
   "source": [
    "x = np.random.randint(0, 2, size=6) # .astype(bool)\n",
    "print(a, x, qfunc(x))\n",
    "print(qfunc.ni)\n",
    "print(qfunc.Q.round(3))\n",
    "print(qfunc.V)\n"
   ]
  },
  {
   "cell_type": "markdown",
   "metadata": {},
   "source": [
    "If $N$ is the number of elements in $U$, then the number of $x$ vectors is\n",
    "\n",
    "$$\n",
    "N_{vec} = {}^NC_1 + {}^NC_2 + {}^NC_3 \\dots {}^NC_{\\frac{N}{2}} = 2^{N-1}\n",
    "$$\n",
    "\n",
    "\n",
    "$$\n",
    "(x+1)^n = {}^NC_0 + {}^NC_1 x + {}^NC_2 x^2 \\dots {}^NC_N x^n\n",
    "$$\n",
    "\n",
    "$x=1$\n",
    "\n",
    "$$\n",
    "2^n = {}^NC_0 + {}^NC_1 + {}^NC_2 \\dots {}^NC_N\n",
    "$$\n",
    "\n",
    "$x = -1 $\n",
    "\n",
    "$$\n",
    "0 = {}^NC_0 - {}^NC_1 + {}^NC_2 \\dots + (-1)^N {}^NC_N\n",
    "$$\n"
   ]
  },
  {
   "cell_type": "code",
   "execution_count": null,
   "metadata": {},
   "outputs": [
    {
     "name": "stdout",
     "output_type": "stream",
     "text": [
      "separation: (1,20)\n",
      "separation: (2,19)\n",
      "separation: (3,18)\n",
      "separation: (4,17)\n",
      "separation: (5,16)\n",
      "separation: (6,15)\n",
      "separation: (7,14)\n",
      "separation: (8,13)\n",
      "separation: (9,12)\n",
      "separation: (10,11)\n"
     ]
    }
   ],
   "source": [
    "import numpy as np\n",
    "import itertools\n",
    "nsize = 21\n",
    "ni = np.random.randint(1, 30, size=nsize)\n",
    "# ni = np.array([10, 1, 16, 14, 22, 26, 29, 23, 21, 5, 14, 9, 12, 27, 22, 9, 14, 27, 12, 9, 24])\n",
    "# ni[-1] = 1500\n",
    "il = np.arange(nsize)\n",
    "q_f = qubo(ni=ni)\n",
    "vecs = []\n",
    "dist = []\n",
    "for choose in range(1,nsize//2+1):\n",
    "    print(f'separation: ({choose},{nsize-choose})')\n",
    "    for ii in itertools.combinations(il, choose):\n",
    "        xi = np.fromiter(((i in ii) for i in il), dtype=bool)\n",
    "        fi = q_f(xi)\n",
    "        vecs += [xi]\n",
    "        dist += [fi]\n",
    "        #print(ii, xi.astype(int))\n",
    "vecs = np.array(vecs)\n",
    "dist = np.array(dist)\n"
   ]
  },
  {
   "cell_type": "code",
   "execution_count": 154,
   "metadata": {},
   "outputs": [
    {
     "name": "stdout",
     "output_type": "stream",
     "text": [
      "U=(10, 1, 16, 14, 22, 26\n",
      "29, 23, 21, 5, 14, 9\n",
      "12, 27, 22, 9, 14, 27\n",
      "12, 9, 24)\n"
     ]
    },
    {
     "data": {
      "image/png": "[encoded data removed]",
      "text/plain": [
       "<Figure size 640x480 with 1 Axes>"
      ]
     },
     "metadata": {},
     "output_type": "display_data"
    }
   ],
   "source": [
    "toprint = 'U=('\n",
    "for i in range(0, ni.shape[0], 6):\n",
    "    toprint += ', '.join([str(i) for i in ni[i:i+6]]) + '\\n'\n",
    "toprint = toprint[:-1] + ')'\n",
    "print(toprint)\n",
    "plt.text(20000, 150000, toprint, fontsize=15)\n",
    "plt.xlabel('f(x)', fontsize=15)\n",
    "plt.ylabel('Degeneracy', fontsize=15)\n",
    "plt.xlim(-1000, 60000)\n",
    "dd = plt.hist(dist, bins=120)"
   ]
  },
  {
   "cell_type": "code",
   "execution_count": 155,
   "metadata": {},
   "outputs": [
    {
     "name": "stdout",
     "output_type": "stream",
     "text": [
      "separation: (1,20)\n",
      "separation: (2,19)\n",
      "separation: (3,18)\n",
      "separation: (4,17)\n",
      "separation: (5,16)\n",
      "separation: (6,15)\n",
      "separation: (7,14)\n",
      "separation: (8,13)\n",
      "separation: (9,12)\n",
      "separation: (10,11)\n"
     ]
    }
   ],
   "source": [
    "import numpy as np\n",
    "import itertools\n",
    "nsize = 21\n",
    "#ni = np.random.randint(1, 30, size=nsize)\n",
    "ni[-1] = 1500\n",
    "il = np.arange(nsize)\n",
    "q_f = qubo(ni=ni)\n",
    "vecs = []\n",
    "dist = []\n",
    "for choose in range(1,nsize//2+1):\n",
    "    print(f'separation: ({choose},{nsize-choose})')\n",
    "    for ii in itertools.combinations(il, choose):\n",
    "        xi = np.fromiter(((i in ii) for i in il), dtype=bool)\n",
    "        fi = q_f(xi)\n",
    "        vecs += [xi]\n",
    "        dist += [fi]\n",
    "        #print(ii, xi.astype(int))\n",
    "vecs = np.array(vecs)\n",
    "dist = np.array(dist)\n"
   ]
  },
  {
   "cell_type": "code",
   "execution_count": 173,
   "metadata": {},
   "outputs": [
    {
     "name": "stdout",
     "output_type": "stream",
     "text": [
      "U=(10, 1, 16, 14, 22, 26\n",
      "29, 23, 21, 5, 14, 9\n",
      "12, 27, 22, 9, 14, 27\n",
      "12, 9, 1500)\n"
     ]
    },
    {
     "data": {
      "image/png": "[encoded data removed]",
      "text/plain": [
       "<Figure size 640x480 with 1 Axes>"
      ]
     },
     "metadata": {},
     "output_type": "display_data"
    }
   ],
   "source": [
    "toprint = 'U=('\n",
    "for i in range(0, ni.shape[0], 6):\n",
    "    toprint += ', '.join([str(i) for i in ni[i:i+6]]) + '\\n'\n",
    "toprint = toprint[:-1] + ')'\n",
    "print(toprint)\n",
    "plt.text(2.3e6, 45000, toprint, fontsize=15)\n",
    "plt.xlabel('f(x)', fontsize=15)\n",
    "plt.ylabel('Degeneracy', fontsize=15)\n",
    "#plt.xlim(-1000, 60000)\n",
    "dd = plt.hist(dist, bins=60)"
   ]
  },
  {
   "cell_type": "code",
   "execution_count": null,
   "metadata": {},
   "outputs": [
    {
     "name": "stdout",
     "output_type": "stream",
     "text": [
      "[1 1 1 1 1 1 1 1 1 1 1 1 1 1 1 1 1 1 1 1 1 1 1 1 1 1 1 1 1 1 1 1 1 1 1 1 1\n",
      " 1 1 1 1 1 1 1 1 1 1 1 1 1 1 1 1 1 1 1 1 1 1 1 1 1 1 1 1 1 1 1 1 1 1 1 1 1\n",
      " 1 1 1 1 1 1 1 1 1 1 1 1 1 1 1 1 1 1 1 1 1 1 1 1 1 1]\n",
      "100 [8, 10, 6, 1, 6, 0, 7, 5, 7, 2, 6, 0, 0, 5, 4, 9, 0, 3, 1, 3, 1, 2, 4, 3, 9, 8, 7, 6, 9, 7, 4, 3, 10, 7, 9, 2, 10, 0, 1, 4, 5, 8, 6, 6, 10, 4, 2, 3, 8, 9, 9, 5, 9, 3, 9, 9, 3, 3, 2, 1, 9, 6, 10, 10, 3, 1, 8, 7, 10, 0, 7, 1, 6, 5, 0, 7, 7, 2, 9, 7, 10, 10, 4, 9, 2, 7, 9, 5, 8, 1, 6, 4, 2, 3, 7, 10, 9, 6, 7, 1]\n",
      "50 [0, 10, 0, 10, 0, 10, 0, 10, 1, 10, 1, 9, 1, 9, 1, 9, 2, 9, 2, 9, 2, 9, 2, 9, 3, 8, 3, 8, 3, 8, 3, 7, 3, 7, 4, 7, 4, 7, 4, 7, 4, 7, 5, 7, 5, 6, 5, 6, 6, 6]\n",
      "50 [0, 10, 0, 10, 0, 10, 1, 10, 1, 10, 1, 9, 1, 9, 1, 9, 2, 9, 2, 9, 2, 9, 2, 9, 3, 8, 3, 8, 3, 8, 3, 7, 3, 7, 4, 7, 4, 7, 4, 7, 5, 7, 5, 6, 5, 6, 6, 6, 6, 6]\n",
      "f_n =  4\n"
     ]
    }
   ],
   "source": [
    "def heuristic_solve(numlist):\n",
    "    import copy\n",
    "    N = len(numlist)\n",
    "    list_copy = copy.deepcopy(list(numlist))\n",
    "    list_copy.sort()\n",
    "    set_AB = ([], [])\n",
    "    ii, cc = 0, 0\n",
    "    for i in range(N//2):\n",
    "        x, y = list_copy.pop(0), list_copy.pop(-1)\n",
    "        set_AB[ii].extend((x, y))\n",
    "        ii = 1 - ii\n",
    "        cc += 1\n",
    "    n = len(list_copy)\n",
    "    if n == 1:\n",
    "        set_AB[1].append(list_copy.pop())\n",
    "    elif n == 2:\n",
    "        if cc%2 == 0:\n",
    "            x, y = list_copy\n",
    "            set_AB[ii].append(y)\n",
    "            set_AB[1-ii].append(x)\n",
    "        else:\n",
    "            x, y = list_copy.pop(), list_copy.pop()\n",
    "            set_AB[ii].extend((x, y))\n",
    "    y1, y2 = set_AB\n",
    "    x = np.asarray([i in y1 for i in numlist])\n",
    "    # fix this!\n",
    "    return x, y1, y2\n",
    "\n",
    "\n",
    "numlist = [3,4,3,6,10,7,12,8,5,6,11, 2, 3]\n",
    "numlist = [1,2,3,4,5,6,7,8, 12]\n",
    "numlist = np.random.randint(0, 11, size=100).tolist()\n",
    "x, y1, y2 = heuristic_solve(np.array(numlist))\n",
    "print(x.astype(int))\n",
    "print(len(numlist), numlist)\n",
    "print(len(y1), y1)\n",
    "print(len(y2), y2)\n",
    "print('f_n = ', (sum(y1) - sum(y2))**2)"
   ]
  },
  {
   "cell_type": "code",
   "execution_count": null,
   "metadata": {},
   "outputs": [],
   "source": [
    "from typing import Any\n",
    "import numpy as np\n",
    "\n",
    "class qubo:\n",
    "    \"\"\"\n",
    "    Define QUBO function for set partitioning problem.\n",
    "    \"\"\"\n",
    "    def __init__(self, ni: np.ndarray) -> None:\n",
    "        self.ni = np.asarray(ni)\n",
    "        self.N = self.ni.shape[0]        \n",
    "        self.Q = 4 * np.outer(self.ni, self.ni)\n",
    "        self.S = self.ni.sum()\n",
    "        self.V = -4 * self.S * self.ni\n",
    "\n",
    "    def __call__(self, x: Any) -> float:\n",
    "        f = x @ (self.Q @ x) + self.V.dot(x) + self.S**2\n",
    "        return f\n",
    "\n"
   ]
  },
  {
   "cell_type": "code",
   "execution_count": null,
   "metadata": {},
   "outputs": [],
   "source": []
  },
  {
   "cell_type": "code",
   "execution_count": 4,
   "metadata": {},
   "outputs": [
    {
     "name": "stdout",
     "output_type": "stream",
     "text": [
      "[ 3  4  5  6  8 12 11 15]\n",
      "[[ 36  48  60  72  96 144 132 180]\n",
      " [ 48  64  80  96 128 192 176 240]\n",
      " [ 60  80 100 120 160 240 220 300]\n",
      " [ 72  96 120 144 192 288 264 360]\n",
      " [ 96 128 160 192 256 384 352 480]\n",
      " [144 192 240 288 384 576 528 720]\n",
      " [132 176 220 264 352 528 484 660]\n",
      " [180 240 300 360 480 720 660 900]]\n"
     ]
    }
   ],
   "source": [
    "print(qubofunc.ni)\n",
    "print(qubofunc.Q)"
   ]
  },
  {
   "cell_type": "code",
   "execution_count": null,
   "metadata": {},
   "outputs": [],
   "source": [
    "qq = {(i, j): 0.5 * ising.Q[i, j] for i in range(ising.N) for j in range(ising.N)}\n",
    "bb = dimod.BinaryQuadraticModel(qq, vartype=dimod.SPIN)\n",
    "print(bb.quadratic)\n",
    "\n",
    "sampler = dimod.ExactSolver()\n",
    "sample_set = sampler.sample(bb)\n",
    "sample_set = sample_set.truncate(5)\n",
    "\n",
    "print(sample_set)\n",
    "for sample in sample_set.samples():\n",
    "    print(sample, ising(sample._data.astype(bool)))\n",
    "\n",
    "sample._data\n",
    "\n"
   ]
  },
  {
   "cell_type": "code",
   "execution_count": null,
   "metadata": {},
   "outputs": [],
   "source": [
    "\"\"\"\n",
    "Section 3.1 The Number Partitioning Problem\n",
    "Partition a set of numbers into two subsets such that the subset sums are as close to each other as possible.\n",
    "\"\"\"\n",
    "\n",
    "import copy\n",
    "import dimod\n",
    "import dwave\n",
    "from dwave.system.samplers import DWaveSampler\n",
    "from dwave.system.composites import EmbeddingComposite\n",
    "\n",
    "numbers = [25, 7, 13, 31, 42, 17, 21, 10]\n",
    "print(numbers)\n",
    "\n",
    "print(\"#\" * 80)\n",
    "\n",
    "\n",
    "    \n",
    "\n",
    "\n",
    "# First try to solve using classical computing / programming naively.\n",
    "# Sort the list in ascending order and then split it into 2 list based on odd and even index position\n",
    "numbers_copy = copy.deepcopy(numbers)\n",
    "numbers_copy.sort()\n",
    "list1 = numbers_copy[0::2]\n",
    "list2 = numbers_copy[1::2]\n",
    "print(\"Using classical computing / programming\")\n",
    "print(\"list1: {}, sum: {}\".format(list1, sum(list1)))\n",
    "print(\"list2: {}, sum: {}\".format(list2, sum(list2)))\n",
    "print(\"diff: abs(sum(list1) - sum(list2)) = {}\".format(abs(sum(list1) - sum(list2))))\n",
    "\n",
    "# Using classical computing / programming\n",
    "# list1: [7, 13, 21, 31], sum: 72\n",
    "# list2: [10, 17, 25, 42], sum: 94\n",
    "# diff: abs(sum(list1) - sum(list2)) = 22\n",
    "\n",
    "print(\"#\" * 80)\n",
    "\n",
    "\n",
    "def split_numbers_list(numbers, result):\n",
    "    list1 = []\n",
    "    list2 = []\n",
    "    for key, include_in_list in result.items():\n",
    "        index = key - 1\n",
    "        if include_in_list:\n",
    "            list1.append(numbers[index])\n",
    "        else:\n",
    "            list2.append(numbers[index])\n",
    "    return list1, list2\n",
    "\n",
    "\n",
    "c = sum(numbers)\n",
    "c_square = c ** c\n",
    "\n",
    "linear = {}\n",
    "quadratic = {}\n",
    "offset = 0.0\n",
    "vartype = dimod.BINARY\n",
    "for index, value in enumerate(numbers):\n",
    "    linear[index + 1] = value * (value - c)\n",
    "for index1, value1 in enumerate(numbers[:-1]):\n",
    "    for index2 in range(index1 + 1, len(numbers)):\n",
    "        value = value1 * numbers[index2]\n",
    "        idx = (index1 + 1, index2 + 1)\n",
    "        quadratic[idx] = quadratic[tuple(reversed(idx))] = value\n",
    "# print linear\n",
    "# print quadratic\n",
    "\n",
    "# Expected Solution\n",
    "# x=(0,0,0,1,1,0,0,1), ie list1=[31,42,10]; list2=[25,7,13,17,21]\n",
    "# y=-6889\n",
    "\n",
    "bqm = dimod.BinaryQuadraticModel(linear, quadratic, offset, vartype)\n",
    "sampler = dimod.ExactSolver()\n",
    "sample_set = sampler.sample(bqm)\n",
    "sample_set = sample_set.truncate(5)\n",
    "print(\"Using ExactSolver()\")\n",
    "print(sample_set)\n",
    "for sample in sample_set.samples():\n",
    "    list1, list2 = split_numbers_list(numbers, sample)\n",
    "    print(\n",
    "        \"list1: {}, sum: {}, list2: {}, sum: {}\".format(\n",
    "            list1, sum(list1), list2, sum(list2)\n",
    "        )\n",
    "    )\n",
    "\n",
    "# Print the first 5 results, notice there are multiple solutions that achieve\n",
    "# the right answer.\n",
    "#\n",
    "# Using ExactSolver()\n",
    "#    1  2  3  4  5  6  7  8  energy num_oc.\n",
    "# 0  0  0  0  1  1  0  0  1 -6889.0       1\n",
    "# 1  0  1  1  0  1  0  1  0 -6889.0       1\n",
    "# 2  1  1  1  0  0  1  1  0 -6889.0       1\n",
    "# 3  1  0  0  1  0  1  0  1 -6889.0       1\n",
    "# 4  1  1  0  1  0  0  1  0 -6888.0       1\n",
    "# ['BINARY', 5 rows, 5 samples, 8 variables]\n",
    "# list1: [31, 42, 10], sum: 83, list2: [25, 7, 13, 17, 21], sum: 83\n",
    "# list1: [7, 13, 42, 21], sum: 83, list2: [25, 31, 17, 10], sum: 83\n",
    "# list1: [25, 7, 13, 17, 21], sum: 83, list2: [31, 42, 10], sum: 83\n",
    "# list1: [25, 31, 17, 10], sum: 83, list2: [7, 13, 42, 21], sum: 83\n",
    "# list1: [25, 7, 31, 21], sum: 84, list2: [13, 42, 17, 10], sum: 82\n",
    "\n",
    "print(\"#\" * 80)\n",
    "\n",
    "sampler = dimod.SimulatedAnnealingSampler()\n",
    "sample_set = sampler.sample(bqm)\n",
    "sample_set = sample_set.truncate(5)\n",
    "print(\"Using SimulatedAnnlearingSampler()\")\n",
    "print(sample_set)\n",
    "for sample in sample_set.samples():\n",
    "    list1, list2 = split_numbers_list(numbers, sample)\n",
    "    print(\n",
    "        \"list1: {}, sum: {}, list2: {}, sum: {}\".format(\n",
    "            list1, sum(list1), list2, sum(list2)\n",
    "        )\n",
    "    )\n",
    "\n",
    "# Using SimulatedAnnlearingSampler()\n",
    "#    1  2  3  4  5  6  7  8  energy num_oc.\n",
    "# 0  0  0  0  1  1  0  0  1 -6889.0       1\n",
    "# 1  1  1  1  0  0  1  1  0 -6889.0       1\n",
    "# 2  1  1  0  0  1  0  0  1 -6888.0       1\n",
    "# 3  0  0  0  0  1  1  1  0 -6880.0       1\n",
    "# 4  0  0  0  0  1  1  1  0 -6880.0       1\n",
    "# ['BINARY', 5 rows, 5 samples, 8 variables]\n",
    "# list1: [31, 42, 10], sum: 83, list2: [25, 7, 13, 17, 21], sum: 83\n",
    "# list1: [25, 7, 13, 17, 21], sum: 83, list2: [31, 42, 10], sum: 83\n",
    "# list1: [25, 7, 42, 10], sum: 84, list2: [13, 31, 17, 21], sum: 82\n",
    "# list1: [42, 17, 21], sum: 80, list2: [25, 7, 13, 31, 10], sum: 86\n",
    "# list1: [42, 17, 21], sum: 80, list2: [25, 7, 13, 31, 10], sum: 86\n",
    "\n",
    "print(\"#\" * 80)\n",
    "\"\"\"\n",
    "sampler = EmbeddingComposite(DWaveSampler())\n",
    "sample_set = sampler.sample(bqm, num_reads=10)\n",
    "print(\"Using DWaveSampler()\")\n",
    "print(sample_set)\n",
    "for sample in sample_set.samples():\n",
    "    list1, list2 = split_numbers_list(numbers, sample)\n",
    "    print(\n",
    "        \"list1: {}, sum: {}, list2: {}, sum: {}\".format(\n",
    "            list1, sum(list1), list2, sum(list2)\n",
    "        )\n",
    "    )\n",
    "\"\"\""
   ]
  },
  {
   "cell_type": "code",
   "execution_count": null,
   "metadata": {},
   "outputs": [],
   "source": [
    "\n",
    "\"\"\"\n",
    "class Ising:\n",
    "    # Define 1D Ising model\n",
    "    def __init__(self, N=10, Jij=None, h=None) -> None:\n",
    "        self.Jij = Jij\n",
    "        self.h, self.N = h, N\n",
    "        self.Q = np.zeros([self.N, self.N])\n",
    "        for i in range(self.N-1):\n",
    "            self.Q[i, i+1], self.Q[i+1, i] = Jij, Jij\n",
    "        self.x = cp.Variable(self.N, boolean=True)\n",
    "        self.costfunc = cp.quad_form(self.x, self.Q)#(self.x @ self.Q) @ self.x\n",
    "        self.objective = cp.Minimize(self.costfunc)\n",
    "        self.problem = cp.Problem(self.objective)\n",
    "    def __call__(self, x):\n",
    "        pass\n",
    "\n",
    "ising = Ising(6, Jij=1.0)\n",
    "ising.problem.solve()\n",
    "\n",
    "def find_best_partition(lst):\n",
    "    n = len(lst)\n",
    "    total_sum = sum(lst)\n",
    "    target_sum = total_sum / 2\n",
    "    # Define the optimization variable\n",
    "    x = cp.Variable(n, boolean=True)  # Binary variable representing if an element is in the first partition\n",
    "    # Define the objective: minimize the absolute difference between partition sums\n",
    "    subset_sum = cp.sum(cp.multiply(x, lst))\n",
    "    objective = cp.Minimize(cp.abs(target_sum - subset_sum))\n",
    "    # Define the problem\n",
    "    problem = cp.Problem(objective)\n",
    "    # Solve the problem\n",
    "    problem.solve()\n",
    "    # Get the partition results\n",
    "    x_values = x.value\n",
    "    first_partition = [lst[i] for i in range(n) if x_values[i] >= 0.5]\n",
    "    second_partition = [lst[i] for i in range(n) if x_values[i] < 0.5]\n",
    "    return problem, (first_partition, second_partition)\n",
    "# Example usage\n",
    "# lst = [2, 5, 9, 7, 3, 5]\n",
    "N = 300\n",
    "lst = np.random.randint(0, 31, N)\n",
    "lst[-1] = int(lst.sum() * 0.7)\n",
    "print(\"full set: \", lst)\n",
    "problem, (part1, part2) = find_best_partition(lst)\n",
    "print(\"First partition:\", part1)\n",
    "print(\"Second partition:\", part2)\n",
    "print(\"Sum of first partition:\", sum(part1))\n",
    "print(\"Sum of second partition:\", sum(part2))\n",
    "\"\"\""
   ]
  },
  {
   "cell_type": "code",
   "execution_count": null,
   "metadata": {},
   "outputs": [],
   "source": [
    "\"\"\"\n",
    "Section 3.1 The Number Partitioning Problem\n",
    "Partition a set of numbers into two subsets such that the subset sums are as close to each other as possible.\n",
    "\"\"\"\n",
    "\n",
    "import copy\n",
    "import dimod\n",
    "import dwave\n",
    "from dwave.system.samplers import DWaveSampler\n",
    "from dwave.system.composites import EmbeddingComposite\n",
    "\n",
    "numbers = [25, 7, 13, 31, 42, 17, 21, 10]\n",
    "print(numbers)\n",
    "\n",
    "def split_numbers_list(numbers, result):\n",
    "    list1 = []\n",
    "    list2 = []\n",
    "    for key, include_in_list in result.items():\n",
    "        index = key - 1\n",
    "        if include_in_list:\n",
    "            list1.append(numbers[index])\n",
    "        else:\n",
    "            list2.append(numbers[index])\n",
    "    return list1, list2\n",
    "\n",
    "print(\"#\" * 80)\n",
    "\n",
    "c = sum(numbers)\n",
    "c_square = c ** 2\n",
    "\n",
    "linear = {}\n",
    "quadratic = {}\n",
    "offset = 0.0\n",
    "vartype = dimod.BINARY\n",
    "for index, value in enumerate(numbers):\n",
    "    linear[index + 1] = value * (value - c)\n",
    "for index1, value1 in enumerate(numbers[:-1]):\n",
    "    for index2 in range(index1 + 1, len(numbers)):\n",
    "        value = value1 * numbers[index2]\n",
    "        idx = (index1 + 1, index2 + 1)\n",
    "        quadratic[idx] = quadratic[tuple(reversed(idx))] = value\n",
    "# print linear\n",
    "# print quadratic\n",
    "\n",
    "# Expected Solution\n",
    "# x=(0,0,0,1,1,0,0,1), ie list1=[31,42,10]; list2=[25,7,13,17,21]\n",
    "# y=-6889\n",
    "\n",
    "bqm = dimod.BinaryQuadraticModel(linear, quadratic, offset, vartype)\n",
    "\n",
    "sampler = dimod.ExactSolver()\n",
    "sample_set = sampler.sample(bqm)\n",
    "sample_set = sample_set.truncate(5)\n",
    "\"\"\"\n",
    "print(\"Using ExactSolver()\")\n",
    "print(sample_set)\n",
    "for sample in sample_set.samples():\n",
    "    list1, list2 = split_numbers_list(numbers, sample)\n",
    "    print(\n",
    "        \"list1: {}, sum: {}, list2: {}, sum: {}\".format(\n",
    "            list1, sum(list1), list2, sum(list2)\n",
    "        )\n",
    "    )\n",
    "\n",
    "sampler = dimod.SimulatedAnnealingSampler()\n",
    "sample_set = sampler.sample(bqm)\n",
    "sample_set = sample_set.truncate(5)\n",
    "print(\"Using SimulatedAnnlearingSampler()\")\n",
    "print(sample_set)\n",
    "for sample in sample_set.samples():\n",
    "    list1, list2 = split_numbers_list(numbers, sample)\n",
    "    print(\n",
    "        \"list1: {}, sum: {}, list2: {}, sum: {}\".format(\n",
    "            list1, sum(list1), list2, sum(list2)\n",
    "        )\n",
    "    )\n",
    "\"\"\""
   ]
  },
  {
   "cell_type": "code",
   "execution_count": 19,
   "metadata": {},
   "outputs": [
    {
     "name": "stdout",
     "output_type": "stream",
     "text": [
      "{(0, 1): 3528.0, (2, 1): 2184.0, (2, 0): 2184.0, (3, 1): 3696.0, (3, 0): 3696.0, (3, 2): 2288.0, (4, 1): 2520.0, (4, 0): 2520.0, (4, 2): 1560.0, (4, 3): 2640.0, (5, 1): 2016.0, (5, 0): 2016.0, (5, 2): 1248.0, (5, 3): 2112.0, (5, 4): 1440.0, (6, 1): 504.0, (6, 0): 504.0, (6, 2): 312.0, (6, 3): 528.0, (6, 4): 360.0, (6, 5): 288.0, (7, 1): 2184.0, (7, 0): 2184.0, (7, 2): 1352.0, (7, 3): 2288.0, (7, 4): 1560.0, (7, 5): 1248.0, (7, 6): 312.0, (8, 1): 4032.0, (8, 0): 4032.0, (8, 2): 2496.0, (8, 3): 4224.0, (8, 4): 2880.0, (8, 5): 2304.0, (8, 6): 576.0, (8, 7): 2496.0, (9, 1): 3192.0, (9, 0): 3192.0, (9, 2): 1976.0, (9, 3): 3344.0, (9, 4): 2280.0, (9, 5): 1824.0, (9, 6): 456.0, (9, 7): 1976.0, (9, 8): 3648.0, (10, 1): 2688.0, (10, 0): 2688.0, (10, 2): 1664.0, (10, 3): 2816.0, (10, 4): 1920.0, (10, 5): 1536.0, (10, 6): 384.0, (10, 7): 1664.0, (10, 8): 3072.0, (10, 9): 2432.0, (11, 1): 3192.0, (11, 0): 3192.0, (11, 2): 1976.0, (11, 3): 3344.0, (11, 4): 2280.0, (11, 5): 1824.0, (11, 6): 456.0, (11, 7): 1976.0, (11, 8): 3648.0, (11, 9): 2888.0, (11, 10): 2432.0, (12, 1): 4368.0, (12, 0): 4368.0, (12, 2): 2704.0, (12, 3): 4576.0, (12, 4): 3120.0, (12, 5): 2496.0, (12, 6): 624.0, (12, 7): 2704.0, (12, 8): 4992.0, (12, 9): 3952.0, (12, 10): 3328.0, (12, 11): 3952.0, (13, 1): 1848.0, (13, 0): 1848.0, (13, 2): 1144.0, (13, 3): 1936.0, (13, 4): 1320.0, (13, 5): 1056.0, (13, 6): 264.0, (13, 7): 1144.0, (13, 8): 2112.0, (13, 9): 1672.0, (13, 10): 1408.0, (13, 11): 1672.0, (13, 12): 2288.0, (14, 1): 27888.0, (14, 0): 27888.0, (14, 2): 17264.0, (14, 3): 29216.0, (14, 4): 19920.0, (14, 5): 15936.0, (14, 6): 3984.0, (14, 7): 17264.0, (14, 8): 31872.0, (14, 9): 25232.0, (14, 10): 21248.0, (14, 11): 25232.0, (14, 12): 34528.0, (14, 13): 14608.0}\n",
      "{1: -31920.0, 0: -31920.0, 2: -20176.0, 3: -33352.0, 4: -23160.0, 5: -18672.0, 6: -4776.0, 7: -20176.0, 8: -36192.0, 9: -29032.0, 10: -24640.0, 11: -29032.0, 12: -39000.0, 13: -17160.0, 14: -156040.0}\n",
      "x = [0 0 0 1 0 1 0 0 0 0 0 0 0 0 1], f(x)=1, set A = [21 21 13 15  3 13 24 19 16 19 26 11], set B = [ 22  12 166]\n",
      "x = [1 1 1 1 1 1 1 1 1 1 0 0 1 1 0], f(x)=1, set A = [ 16  19 166], set B = [21 21 13 22 15 12  3 13 24 19 26 11]\n",
      "x = [1 1 1 1 1 1 0 1 1 1 1 0 1 0 0], f(x)=9, set A = [  3  19  11 166], set B = [21 21 13 22 15 12 13 24 19 16 26]\n",
      "x = [1 1 1 1 1 1 0 1 1 1 1 0 1 0 0], f(x)=9, set A = [  3  19  11 166], set B = [21 21 13 22 15 12 13 24 19 16 26]\n",
      "x = [1 1 1 1 1 1 0 1 1 1 1 0 1 0 0], f(x)=9, set A = [  3  19  11 166], set B = [21 21 13 22 15 12 13 24 19 16 26]\n",
      "x = [1 1 1 1 1 1 1 1 1 1 1 1 0 0 0], f(x)=25, set A = [ 26  11 166], set B = [21 21 13 22 15 12  3 13 24 19 16 19]\n",
      "x = [0 0 1 0 0 0 1 0 0 0 1 0 0 0 1], f(x)=25, set A = [21 21 22 15 12 13 24 19 19 26 11], set B = [ 13   3  16 166]\n",
      "x = [1 1 1 1 1 1 1 1 1 1 1 1 0 0 0], f(x)=25, set A = [ 26  11 166], set B = [21 21 13 22 15 12  3 13 24 19 16 19]\n",
      "x = [1 1 1 1 1 0 1 1 1 1 1 1 0 1 0], f(x)=49, set A = [ 12  26 166], set B = [21 21 13 22 15  3 13 24 19 16 19 11]\n",
      "x = [1 1 1 1 1 1 1 1 1 1 0 1 0 1 0], f(x)=225, set A = [ 16  26 166], set B = [21 21 13 22 15 12  3 13 24 19 19 11]\n",
      "[ 21  21  13  22  15  12   3  13  24  19  16  19  26  11 166]\n",
      "Heuristic result: set A = [3, 166, 12, 24, 13, 21, 16, 19], set B = [11, 26, 13, 22, 15, 21, 19], 21609\n"
     ]
    }
   ],
   "source": [
    "import dimod\n",
    "\n",
    "def heuristic_solve(numlist):\n",
    "    import copy\n",
    "    N = len(numlist)\n",
    "    list_copy = copy.deepcopy(list(numlist))\n",
    "    list_copy.sort()\n",
    "    set_AB = ([], [])\n",
    "    ii, cc = 0, 0\n",
    "    for i in range(N//2):\n",
    "        x, y = list_copy.pop(0), list_copy.pop(-1)\n",
    "        set_AB[ii].extend((x, y))\n",
    "        ii = 1 - ii\n",
    "        cc += 1\n",
    "    n = len(list_copy)\n",
    "    if n == 1:\n",
    "        set_AB[1].append(list_copy.pop())\n",
    "    elif n == 2:\n",
    "        if cc%2 == 0:\n",
    "            x, y = list_copy\n",
    "            set_AB[ii].append(y)\n",
    "            set_AB[1-ii].append(x)\n",
    "        else:\n",
    "            x, y = list_copy.pop(), list_copy.pop()\n",
    "            set_AB[ii].extend((x, y))\n",
    "    y1, y2 = set_AB\n",
    "    x = np.asarray([i in y1 for i in numlist])\n",
    "    # fix this!\n",
    "    return x, y1, y2\n",
    "\n",
    "# ni = np.array([3, 4, 5, 6, 8, 12, 11, 15])\n",
    "# ni = np.array([1,2,3,4,5,6,7,8])\n",
    "\n",
    "ni = np.random.randint(0, 31, size=15)\n",
    "ni[-1] = int(ni.mean()*10)\n",
    "qubofunc = qubo(ni=ni)\n",
    "\n",
    "qdict = {(i, j): 2*qubofunc.Q[i, j] for i in range(qubofunc.N) for j in range(qubofunc.N) if i>j}\n",
    "ldict = {i: qubofunc.V[i]+qubofunc.Q[i, i] for i in range(qubofunc.N)}\n",
    "constant = qubofunc.S**2\n",
    "\n",
    "bqm_set = dimod.BinaryQuadraticModel(ldict, qdict, offset=constant, vartype=dimod.BINARY)\n",
    "print(bqm_set.quadratic)\n",
    "print(bqm_set.linear)\n",
    "\n",
    "# sampler = dimod.ExactSolver()\n",
    "sampler = dimod.samplers.SimulatedAnnealingSampler()\n",
    "sample_set = sampler.sample(bqm_set, num_sweeps=10000)\n",
    "sample_set = sample_set.truncate(15)\n",
    "\n",
    "for sample in sample_set.samples():\n",
    "    xi = sample._data.astype(int)\n",
    "    fi = qubofunc(xi)\n",
    "    ia = [k for k, v in sample.items() if v == 0]\n",
    "    ib = [k for k, v in sample.items() if v == 1]\n",
    "    print(f\"x = {xi}, f(x)={fi}, set A = {ni[ia]}, set B = {ni[ib]}\")\n",
    "\n",
    "\n",
    "print(ni)\n",
    "x, y1, y2 = heuristic_solve(ni)\n",
    "\n",
    "print(f\"Heuristic result: set A = {y1}, set B = {y2}, {(sum(y1) - sum(y2))**2}\")"
   ]
  },
  {
   "cell_type": "code",
   "execution_count": 10,
   "metadata": {},
   "outputs": [
    {
     "data": {
      "text/plain": [
       "(144.0, 144)"
      ]
     },
     "execution_count": 10,
     "metadata": {},
     "output_type": "execute_result"
    }
   ],
   "source": [
    "x = np.array([1,0,1,0,1,0,1,0])\n",
    "x = np.array([1,0,0,0,1,1,0,0])\n",
    "bqm_set.energy(x),qubofunc(x)"
   ]
  },
  {
   "cell_type": "code",
   "execution_count": null,
   "metadata": {},
   "outputs": [
    {
     "data": {
      "text/plain": [
       "array([ 3,  4,  5,  6,  8, 12, 11, 15])"
      ]
     },
     "execution_count": 14,
     "metadata": {},
     "output_type": "execute_result"
    }
   ],
   "source": []
  },
  {
   "cell_type": "code",
   "execution_count": null,
   "metadata": {},
   "outputs": [],
   "source": []
  }
 ],
 "metadata": {
  "kernelspec": {
   "display_name": "Python 3",
   "language": "python",
   "name": "python3"
  },
  "language_info": {
   "codemirror_mode": {
    "name": "ipython",
    "version": 3
   },
   "file_extension": ".py",
   "mimetype": "text/x-python",
   "name": "python",
   "nbconvert_exporter": "python",
   "pygments_lexer": "ipython3",
   "version": "3.12.2"
  }
 },
 "nbformat": 4,
 "nbformat_minor": 2
}
